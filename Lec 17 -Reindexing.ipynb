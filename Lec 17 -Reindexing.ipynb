{
 "cells": [
  {
   "cell_type": "code",
   "execution_count": 1,
   "id": "af115135",
   "metadata": {
    "collapsed": false,
    "jupyter": {
     "outputs_hidden": false
    },
    "tags": []
   },
   "outputs": [],
   "source": [
    "#Now we'll elarn about reindexing"
   ]
  },
  {
   "cell_type": "code",
   "execution_count": 2,
   "id": "27d16cc6",
   "metadata": {
    "collapsed": false,
    "jupyter": {
     "outputs_hidden": false
    },
    "tags": []
   },
   "outputs": [],
   "source": [
    "import numpy as np\n",
    "from pandas import Series, DataFrame\n",
    "import pandas as pd\n",
    "from numpy.random import randn"
   ]
  },
  {
   "cell_type": "code",
   "execution_count": 3,
   "id": "7c47536e",
   "metadata": {
    "collapsed": false,
    "jupyter": {
     "outputs_hidden": false
    },
    "tags": []
   },
   "outputs": [],
   "source": [
    "#Lets create a new series\n",
    "ser1 = Series([1,2,3,4],index=['A','B','C','D'])"
   ]
  },
  {
   "cell_type": "code",
   "execution_count": 4,
   "id": "d6fb584c",
   "metadata": {
    "collapsed": false,
    "jupyter": {
     "outputs_hidden": false
    },
    "tags": []
   },
   "outputs": [
    {
     "data": {
      "text/plain": [
       "A    1\n",
       "B    2\n",
       "C    3\n",
       "D    4\n",
       "dtype: int64"
      ]
     },
     "execution_count": 4,
     "metadata": {},
     "output_type": "execute_result"
    }
   ],
   "source": [
    "#Show\n",
    "ser1"
   ]
  },
  {
   "cell_type": "code",
   "execution_count": 5,
   "id": "94b51eb7",
   "metadata": {
    "collapsed": false,
    "jupyter": {
     "outputs_hidden": false
    },
    "tags": []
   },
   "outputs": [],
   "source": [
    "#Call reindex to rearrange the data to a new index\n",
    "ser2 = ser1.reindex(['A','B','C','D','E','F'])"
   ]
  },
  {
   "cell_type": "code",
   "execution_count": 6,
   "id": "79dd91d9",
   "metadata": {
    "collapsed": false,
    "jupyter": {
     "outputs_hidden": false
    },
    "tags": []
   },
   "outputs": [
    {
     "data": {
      "text/plain": [
       "A    1.0\n",
       "B    2.0\n",
       "C    3.0\n",
       "D    4.0\n",
       "E    NaN\n",
       "F    NaN\n",
       "dtype: float64"
      ]
     },
     "execution_count": 6,
     "metadata": {},
     "output_type": "execute_result"
    }
   ],
   "source": [
    "#Show\n",
    "ser2"
   ]
  },
  {
   "cell_type": "code",
   "execution_count": 7,
   "id": "fe9a2a82",
   "metadata": {
    "collapsed": false,
    "jupyter": {
     "outputs_hidden": false
    },
    "tags": []
   },
   "outputs": [
    {
     "data": {
      "text/plain": [
       "A    1.0\n",
       "B    2.0\n",
       "C    3.0\n",
       "D    4.0\n",
       "E    NaN\n",
       "F    NaN\n",
       "G    0.0\n",
       "dtype: float64"
      ]
     },
     "execution_count": 7,
     "metadata": {},
     "output_type": "execute_result"
    }
   ],
   "source": [
    "# We can alos fill in values for new indexes\n",
    "ser2.reindex(['A','B','C','D','E','F','G'],fill_value=0)"
   ]
  },
  {
   "cell_type": "code",
   "execution_count": 8,
   "id": "5999608b",
   "metadata": {
    "collapsed": false,
    "jupyter": {
     "outputs_hidden": false
    },
    "tags": []
   },
   "outputs": [
    {
     "data": {
      "text/plain": [
       "0        USA\n",
       "5     Mexico\n",
       "10    Canada\n",
       "dtype: object"
      ]
     },
     "execution_count": 8,
     "metadata": {},
     "output_type": "execute_result"
    }
   ],
   "source": [
    "#Using a particular method for filling values\n",
    "ser3 = Series(['USA','Mexico','Canada'],index=[0,5,10])\n",
    "\n",
    "#Show\n",
    "ser3"
   ]
  },
  {
   "cell_type": "code",
   "execution_count": 9,
   "id": "2535612c",
   "metadata": {
    "collapsed": false,
    "jupyter": {
     "outputs_hidden": false
    },
    "tags": []
   },
   "outputs": [
    {
     "data": {
      "text/plain": [
       "0        USA\n",
       "1        USA\n",
       "2        USA\n",
       "3        USA\n",
       "4        USA\n",
       "5     Mexico\n",
       "6     Mexico\n",
       "7     Mexico\n",
       "8     Mexico\n",
       "9     Mexico\n",
       "10    Canada\n",
       "11    Canada\n",
       "12    Canada\n",
       "13    Canada\n",
       "14    Canada\n",
       "dtype: object"
      ]
     },
     "execution_count": 9,
     "metadata": {},
     "output_type": "execute_result"
    }
   ],
   "source": [
    "#Can use a forward fill for interploating values vetween indices \n",
    "ser3.reindex(range(15),method='ffill')"
   ]
  },
  {
   "cell_type": "code",
   "execution_count": 30,
   "id": "190071ec",
   "metadata": {
    "collapsed": false,
    "jupyter": {
     "outputs_hidden": false
    },
    "tags": []
   },
   "outputs": [
    {
     "data": {
      "text/html": [
       "<div>\n",
       "<style scoped>\n",
       "    .dataframe tbody tr th:only-of-type {\n",
       "        vertical-align: middle;\n",
       "    }\n",
       "\n",
       "    .dataframe tbody tr th {\n",
       "        vertical-align: top;\n",
       "    }\n",
       "\n",
       "    .dataframe thead th {\n",
       "        text-align: right;\n",
       "    }\n",
       "</style>\n",
       "<table border=\"1\" class=\"dataframe\">\n",
       "  <thead>\n",
       "    <tr style=\"text-align: right;\">\n",
       "      <th></th>\n",
       "      <th>col1</th>\n",
       "      <th>col2</th>\n",
       "      <th>col3</th>\n",
       "      <th>col4</th>\n",
       "      <th>col5</th>\n",
       "    </tr>\n",
       "  </thead>\n",
       "  <tbody>\n",
       "    <tr>\n",
       "      <th>A</th>\n",
       "      <td>0.586901</td>\n",
       "      <td>-0.602151</td>\n",
       "      <td>0.096955</td>\n",
       "      <td>-0.167109</td>\n",
       "      <td>-1.103294</td>\n",
       "    </tr>\n",
       "    <tr>\n",
       "      <th>B</th>\n",
       "      <td>-0.547976</td>\n",
       "      <td>0.084184</td>\n",
       "      <td>-0.017081</td>\n",
       "      <td>-1.105664</td>\n",
       "      <td>0.171739</td>\n",
       "    </tr>\n",
       "    <tr>\n",
       "      <th>D</th>\n",
       "      <td>-0.593442</td>\n",
       "      <td>1.351745</td>\n",
       "      <td>0.101924</td>\n",
       "      <td>-1.434597</td>\n",
       "      <td>1.047454</td>\n",
       "    </tr>\n",
       "    <tr>\n",
       "      <th>E</th>\n",
       "      <td>0.318153</td>\n",
       "      <td>-0.993822</td>\n",
       "      <td>0.980470</td>\n",
       "      <td>1.224276</td>\n",
       "      <td>0.883469</td>\n",
       "    </tr>\n",
       "    <tr>\n",
       "      <th>F</th>\n",
       "      <td>0.829054</td>\n",
       "      <td>-0.847067</td>\n",
       "      <td>-0.320317</td>\n",
       "      <td>0.008244</td>\n",
       "      <td>-1.287563</td>\n",
       "    </tr>\n",
       "  </tbody>\n",
       "</table>\n",
       "</div>"
      ],
      "text/plain": [
       "       col1      col2      col3      col4      col5\n",
       "A  0.586901 -0.602151  0.096955 -0.167109 -1.103294\n",
       "B -0.547976  0.084184 -0.017081 -1.105664  0.171739\n",
       "D -0.593442  1.351745  0.101924 -1.434597  1.047454\n",
       "E  0.318153 -0.993822  0.980470  1.224276  0.883469\n",
       "F  0.829054 -0.847067 -0.320317  0.008244 -1.287563"
      ]
     },
     "execution_count": 30,
     "metadata": {},
     "output_type": "execute_result"
    }
   ],
   "source": [
    "#Reindexing rows, columns or both\n",
    "\n",
    "#Lets make a datafram ewith some random values\n",
    "dframe = DataFrame(randn(25).reshape((5,5)),index=['A','B','D','E','F'],columns=['col1','col2','col3','col4','col5'])\n",
    "\n",
    "#Show\n",
    "dframe"
   ]
  },
  {
   "cell_type": "code",
   "execution_count": 31,
   "id": "0a5cd7df",
   "metadata": {
    "collapsed": false,
    "jupyter": {
     "outputs_hidden": false
    },
    "tags": []
   },
   "outputs": [],
   "source": [
    "#Notice we forgot 'C' , lets reindex it into dframe\n",
    "dframe2 = dframe.reindex(['A','B','C','D','E','F'])\n"
   ]
  },
  {
   "cell_type": "code",
   "execution_count": 32,
   "id": "8e5cb890",
   "metadata": {
    "collapsed": false,
    "jupyter": {
     "outputs_hidden": false
    },
    "tags": []
   },
   "outputs": [
    {
     "data": {
      "text/html": [
       "<div>\n",
       "<style scoped>\n",
       "    .dataframe tbody tr th:only-of-type {\n",
       "        vertical-align: middle;\n",
       "    }\n",
       "\n",
       "    .dataframe tbody tr th {\n",
       "        vertical-align: top;\n",
       "    }\n",
       "\n",
       "    .dataframe thead th {\n",
       "        text-align: right;\n",
       "    }\n",
       "</style>\n",
       "<table border=\"1\" class=\"dataframe\">\n",
       "  <thead>\n",
       "    <tr style=\"text-align: right;\">\n",
       "      <th></th>\n",
       "      <th>col1</th>\n",
       "      <th>col2</th>\n",
       "      <th>col3</th>\n",
       "      <th>col4</th>\n",
       "      <th>col5</th>\n",
       "      <th>col6</th>\n",
       "    </tr>\n",
       "  </thead>\n",
       "  <tbody>\n",
       "    <tr>\n",
       "      <th>A</th>\n",
       "      <td>0.586901</td>\n",
       "      <td>-0.602151</td>\n",
       "      <td>0.096955</td>\n",
       "      <td>-0.167109</td>\n",
       "      <td>-1.103294</td>\n",
       "      <td>NaN</td>\n",
       "    </tr>\n",
       "    <tr>\n",
       "      <th>B</th>\n",
       "      <td>-0.547976</td>\n",
       "      <td>0.084184</td>\n",
       "      <td>-0.017081</td>\n",
       "      <td>-1.105664</td>\n",
       "      <td>0.171739</td>\n",
       "      <td>NaN</td>\n",
       "    </tr>\n",
       "    <tr>\n",
       "      <th>C</th>\n",
       "      <td>NaN</td>\n",
       "      <td>NaN</td>\n",
       "      <td>NaN</td>\n",
       "      <td>NaN</td>\n",
       "      <td>NaN</td>\n",
       "      <td>NaN</td>\n",
       "    </tr>\n",
       "    <tr>\n",
       "      <th>D</th>\n",
       "      <td>-0.593442</td>\n",
       "      <td>1.351745</td>\n",
       "      <td>0.101924</td>\n",
       "      <td>-1.434597</td>\n",
       "      <td>1.047454</td>\n",
       "      <td>NaN</td>\n",
       "    </tr>\n",
       "    <tr>\n",
       "      <th>E</th>\n",
       "      <td>0.318153</td>\n",
       "      <td>-0.993822</td>\n",
       "      <td>0.980470</td>\n",
       "      <td>1.224276</td>\n",
       "      <td>0.883469</td>\n",
       "      <td>NaN</td>\n",
       "    </tr>\n",
       "    <tr>\n",
       "      <th>F</th>\n",
       "      <td>0.829054</td>\n",
       "      <td>-0.847067</td>\n",
       "      <td>-0.320317</td>\n",
       "      <td>0.008244</td>\n",
       "      <td>-1.287563</td>\n",
       "      <td>NaN</td>\n",
       "    </tr>\n",
       "  </tbody>\n",
       "</table>\n",
       "</div>"
      ],
      "text/plain": [
       "       col1      col2      col3      col4      col5  col6\n",
       "A  0.586901 -0.602151  0.096955 -0.167109 -1.103294   NaN\n",
       "B -0.547976  0.084184 -0.017081 -1.105664  0.171739   NaN\n",
       "C       NaN       NaN       NaN       NaN       NaN   NaN\n",
       "D -0.593442  1.351745  0.101924 -1.434597  1.047454   NaN\n",
       "E  0.318153 -0.993822  0.980470  1.224276  0.883469   NaN\n",
       "F  0.829054 -0.847067 -0.320317  0.008244 -1.287563   NaN"
      ]
     },
     "execution_count": 32,
     "metadata": {},
     "output_type": "execute_result"
    }
   ],
   "source": [
    "#Can also explicitly reindex columns\n",
    "new_columns = ['col1','col2','col3','col4','col5','col6']\n",
    "\n",
    "dframe2.reindex(columns=new_columns)"
   ]
  },
  {
   "cell_type": "code",
   "execution_count": null,
   "id": "30c757a8",
   "metadata": {
    "collapsed": false,
    "jupyter": {
     "outputs_hidden": false
    }
   },
   "outputs": [],
   "source": []
  }
 ],
 "metadata": {
  "kernelspec": {
   "display_name": "Python 3 (ipykernel)",
   "language": "python",
   "name": "python3"
  },
  "language_info": {
   "codemirror_mode": {
    "name": "ipython",
    "version": 3
   },
   "file_extension": ".py",
   "mimetype": "text/x-python",
   "name": "python",
   "nbconvert_exporter": "python",
   "pygments_lexer": "ipython3",
   "version": "3.7.6"
  }
 },
 "nbformat": 4,
 "nbformat_minor": 5
}
