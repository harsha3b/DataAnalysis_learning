{
 "cells": [
  {
   "cell_type": "markdown",
   "id": "6e46990c",
   "metadata": {},
   "source": [
    "To install file the directions at the following link, you should be able to use a simple pip install.\n",
    "Remember to install the dependencies!"
   ]
  },
  {
   "cell_type": "markdown",
   "id": "a796525c",
   "metadata": {},
   "source": [
    "http://stanford.edu/~mwaskom/software/seaborn/installing.html"
   ]
  },
  {
   "cell_type": "code",
   "execution_count": null,
   "id": "3766b362",
   "metadata": {
    "collapsed": false
   },
   "outputs": [],
   "source": []
  }
 ],
 "metadata": {},
 "nbformat": 4,
 "nbformat_minor": 5
}
